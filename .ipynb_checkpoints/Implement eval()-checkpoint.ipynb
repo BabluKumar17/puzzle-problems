{
 "cells": [
  {
   "cell_type": "code",
   "execution_count": 1,
   "metadata": {
    "collapsed": true
   },
   "outputs": [],
   "source": [
    "class BinaryOperation(object):\n",
    "    def __init__(self, operand1, operator, operand2):\n",
    "        self.operator = operator\n",
    "        self.operand1 = operand1\n",
    "        self.operand2 = operand2\n",
    "    def eval(self):\n",
    "        if self.operator == \"+\":\n",
    "            return self.operand1.eval() + self.operand2.eval()\n",
    "        elif self.operator == \"-\":\n",
    "            return self.operand1.eval() - self.operand2.eval()\n",
    "        elif self.operator == \"*\":\n",
    "            return self.operand1.eval() * self.operand2.eval()\n",
    "        elif self.operator == \"/\":\n",
    "            return self.operand1.eval() / self.operand2.eval()\n",
    "        else:\n",
    "            return NotImplemented\n",
    "    def __str__(self):\n",
    "        return \"(\" + str(self.operand1) + self.operator \\\n",
    "                   + str(self.operand2) + \")\""
   ]
  },
  {
   "cell_type": "code",
   "execution_count": 2,
   "metadata": {
    "collapsed": true
   },
   "outputs": [],
   "source": [
    "class Value(object):\n",
    "    def __init__(self, value):\n",
    "        self.value = value\n",
    "    def eval(self):\n",
    "        return self.value\n",
    "    def __str__(self):\n",
    "        return str(self.value)"
   ]
  },
  {
   "cell_type": "code",
   "execution_count": 7,
   "metadata": {},
   "outputs": [
    {
     "name": "stdout",
     "output_type": "stream",
     "text": [
      "(9/3)\n",
      "3.0\n",
      "(11-3)\n",
      "8\n",
      "((9/3)*(11-3))\n",
      "24.0\n"
     ]
    }
   ],
   "source": [
    "a = BinaryOperation(Value(9), \"/\", Value(3))\n",
    "b = BinaryOperation(Value(11), \"-\", Value(3))\n",
    "answer = BinaryOperation(a, \"*\", b)\n",
    "\n",
    "print(a)             # (9/3)\n",
    "print(a.eval())      # 3.0\n",
    "print(b)             # (11-3)\n",
    "print(b.eval())      # 8\n",
    "print(answer)        # ((9/3)*(11-3))\n",
    "print(answer.eval()) # 24.0"
   ]
  },
  {
   "cell_type": "code",
   "execution_count": null,
   "metadata": {
    "collapsed": true
   },
   "outputs": [],
   "source": []
  }
 ],
 "metadata": {
  "kernelspec": {
   "display_name": "Python 3",
   "language": "python",
   "name": "python3"
  },
  "language_info": {
   "codemirror_mode": {
    "name": "ipython",
    "version": 3
   },
   "file_extension": ".py",
   "mimetype": "text/x-python",
   "name": "python",
   "nbconvert_exporter": "python",
   "pygments_lexer": "ipython3",
   "version": "3.6.1"
  }
 },
 "nbformat": 4,
 "nbformat_minor": 2
}
